{
 "metadata": {
  "name": "",
  "signature": "sha256:274548c8a1084eda880fa1751dd98ce8c4c4a1320db33908613de448b490c9e8"
 },
 "nbformat": 3,
 "nbformat_minor": 0,
 "worksheets": [
  {
   "cells": [
    {
     "cell_type": "heading",
     "level": 1,
     "metadata": {},
     "source": [
      "Generating Cycling Charts"
     ]
    },
    {
     "cell_type": "markdown",
     "metadata": {},
     "source": [
      "For the QS2014 conference, I generated a series of charts that I used to tell a story. In this iPython notebook, I'm documenting the code used to generate the charts. \n",
      "\n",
      "Since this was my first big project using iPython notebook, my process isn't yet optimal. As with most data analysis projects (and since I was becoming familiar with the tool, including some of the python libraries I was using), I started by loading the data, creating some charts, tweaking, and moving on. I'm still trying to figure out how to document my process: both in terms of duplicating and modifying cells in my notebook, and how to document change over time in git. \n",
      "\n",
      "At this point, I'm pretty much documenting the final code used to generate the charts. The process is pretty much gone by now. \n",
      "\n",
      "Anyways, on to the data loading and presentation. "
     ]
    },
    {
     "cell_type": "heading",
     "level": 2,
     "metadata": {},
     "source": [
      "A quick overview"
     ]
    },
    {
     "cell_type": "markdown",
     "metadata": {},
     "source": [
      "* Imports\n",
      "* Define functions to load each kind of data I have\n",
      "* Define globals \n",
      "* Define functions to display various data sets\n",
      "* "
     ]
    },
    {
     "cell_type": "heading",
     "level": 2,
     "metadata": {},
     "source": [
      "Imports\n"
     ]
    },
    {
     "cell_type": "markdown",
     "metadata": {},
     "source": [
      "The first thing to do is import the modules I need. "
     ]
    },
    {
     "cell_type": "code",
     "collapsed": false,
     "input": [
      "# Imports\n",
      "import matplotlib.pyplot as plt\n",
      "import matplotlib as mpl\n",
      "import seaborn as sns\n",
      "import pandas as pd\n",
      "from pandas import Series, DataFrame\n",
      "\n",
      "import scipy as sc\n",
      "\n",
      "import numpy as np\n",
      "\n",
      "import json\n",
      "from datetime import datetime\n",
      "from datetime import time\n",
      "from matplotlib.ticker import FuncFormatter as ff\n",
      "\n",
      "import pytz"
     ],
     "language": "python",
     "metadata": {},
     "outputs": [],
     "prompt_number": 1
    },
    {
     "cell_type": "heading",
     "level": 2,
     "metadata": {},
     "source": [
      "Define Globals"
     ]
    },
    {
     "cell_type": "code",
     "collapsed": false,
     "input": [
      "annotations = [\n",
      "    (datetime(2013,12,1), 'Started low-carb eating'), \n",
      "    (datetime(2013,12, 24), 'Christmas! '),\n",
      "    (datetime(2014,1, 11), 'First NFL game '),\n",
      "    (datetime(2014,1, 20), 'Something (?) '),\n",
      "    (datetime(2014,2, 14), 'Valentines '),\n",
      "    (datetime(2014,2, 2), 'Superbowl '),\n",
      "    (datetime(2014,2, 25), 'Noodle night '),\n",
      "]\n",
      "\n",
      "\n",
      "orange = (1.0, 129.0/255.0, 25.0/255.0)\n",
      "bk_8 = (0, 0, 0, 0.8)\n",
      "bk_3 = (0, 0, 0, 0.3)\n",
      "orange = (1.0, 129.0/255.0, 25.0/255.0)\n",
      "green = (146.0/255.0, 208.0/255.0, 80.0/255.0)\n",
      "\n",
      "blue = (68.0/255.0, 185.0/255.0, 232.0/255.0, 1)\n",
      "\n",
      "blue_alpha08 = (68.0/255.0, 185.0/255.0, 232.0/255.0, 0.8)"
     ],
     "language": "python",
     "metadata": {},
     "outputs": [],
     "prompt_number": 2
    },
    {
     "cell_type": "heading",
     "level": 2,
     "metadata": {},
     "source": [
      "Define Data-Loading Functions"
     ]
    },
    {
     "cell_type": "markdown",
     "metadata": {},
     "source": [
      "I have two kinds of data I'm merging: The general commute/bike ride data from RunKeeper, and the extracted Dexter Hill segments from Strava. "
     ]
    },
    {
     "cell_type": "heading",
     "level": 3,
     "metadata": {},
     "source": [
      "Load RunKeeper Data"
     ]
    },
    {
     "cell_type": "code",
     "collapsed": false,
     "input": [
      "\n",
      "def load_cycling_commute_runkeeper_csv(filename='/Users/adriennea/Documents/data/cycling/cardioActivities.csv'):\n",
      "    data = pd.read_csv(open(filename), parse_dates={'activity_date':[0]})\n",
      "   \n",
      "    #data['weekday'] = data.Activity_Date.weekofyear\n",
      "    # data['weekday'] = [pd.to_datetime(data['Activity_Date'],unit='ms').dayofweek]\n",
      "    # data['activity_hour'] = data.activity_date.apply(.hour)\n",
      "    \n",
      "    data['some_time'] = pd.to_datetime(data['activity_date'],unit='ms')\n",
      "   \n",
      "    data['hour_of_day'] = data['some_time'].map(lambda x:x.hour)\n",
      "    \n",
      "    data['week_of_year'] = data['some_time'].map(lambda x:x.weekofyear)\n",
      "   \n",
      "    data['day_of_week'] = data['some_time'].map(lambda x:x.dayofweek)\n",
      "    \n",
      "    # Only keep cycling bouts that happen on a weekday. \n",
      "    data = data[data.Type == 'Cycling'] \n",
      "    data = data[data.day_of_week < 5]\n",
      "    \n",
      "    # Calculate the duration in seconds, because that's how I best know how to deal with it in python. \n",
      "    data['duration_2'] = data['Duration'].map(lambda x:datetime.strptime(x, '%M:%S')) #datetime.strptime(cycling_data['Duration'], '%H:%M:%S')\n",
      "    dur_seconds = data['duration_2'].map(lambda x: (x.minute * 60) + (x.second))\n",
      "    data['dur_seconds'] = dur_seconds\n",
      "    \n",
      "    # Treat average pace as a time. \n",
      "    data['avg_pace'] = data['Average Pace'].map(lambda x:datetime.strptime(x, '%M:%S')) #datetime.strptime(cycling_data['Duration'], '%H:%M:%S')\n",
      "    \n",
      "    # Treat average pace in seconds\n",
      "    avg_pace_seconds = data['avg_pace'].map(lambda x: (x.minute * 60) + (x.second))\n",
      "    data['avg_pace_seconds'] = avg_pace_seconds\n",
      "    \n",
      "    # Index by date\n",
      "    data = data.set_index(['activity_date'])\n",
      "    \n",
      "    # Sort so we can index easily. \n",
      "    data = data.sort_index()\n",
      "    \n",
      "    return data"
     ],
     "language": "python",
     "metadata": {},
     "outputs": [],
     "prompt_number": 3
    },
    {
     "cell_type": "heading",
     "level": 3,
     "metadata": {},
     "source": [
      "Load Strava Segment Data"
     ]
    },
    {
     "cell_type": "code",
     "collapsed": false,
     "input": [
      "def load_cycling_segment_csv(filename='/Users/adriennea/Documents/data/cycling/strava_segments.csv'):\n",
      "    data = pd.read_csv(open(filename), parse_dates={'activity_date':[0]})\n",
      "    \n",
      "    # Calculate the duration in seconds, because that's how I best know how to deal with it in python. \n",
      "    data['dex_dur_tmp'] = data['Dexter_Climb'].map(lambda x:datetime.strptime(x, '%M:%S')) #datetime.strptime(cycling_data['Duration'], '%H:%M:%S')\n",
      "    dur_seconds = data['dex_dur_tmp'].map(lambda x: (x.minute * 60) + (x.second))\n",
      "    data['dexter_climb_seconds'] = dur_seconds\n",
      "    \n",
      "    # Index by date\n",
      "    data = data.set_index(['activity_date'])\n",
      "    \n",
      "    # Sort so we can index easily. \n",
      "    data = data.sort_index()\n",
      "    \n",
      "    return data"
     ],
     "language": "python",
     "metadata": {},
     "outputs": [],
     "prompt_number": 4
    },
    {
     "cell_type": "heading",
     "level": 2,
     "metadata": {},
     "source": [
      "Define Chart-Helper Functions"
     ]
    },
    {
     "cell_type": "markdown",
     "metadata": {},
     "source": [
      "Since I'm documenting this after the fact, I know what helper functions I need to help all the chart-production I'm doing. Part of this makes it easier to format the charts consistently, and part of it is to make it easy for me to switch between black- or white-background images. "
     ]
    },
    {
     "cell_type": "markdown",
     "metadata": {},
     "source": [
      "First, a function that maps from number of seconds to an easy-to-read minutes\\:seconds string.  "
     ]
    },
    {
     "cell_type": "code",
     "collapsed": false,
     "input": [
      "def s2ms(x, i):\n",
      "    m = int(x/60)\n",
      "    s = int(x%60)\n",
      "    return '%(m)02d:%(s)02d' % {'m':m,'s':s}"
     ],
     "language": "python",
     "metadata": {},
     "outputs": [],
     "prompt_number": 5
    },
    {
     "cell_type": "markdown",
     "metadata": {},
     "source": [
      "Next, a function that formats the axes nicely. I ended up only focusing on Duration, so my axes are all formatted with the same labels. Convenient, that. "
     ]
    },
    {
     "cell_type": "code",
     "collapsed": false,
     "input": [
      "def format_axes(axes, title, fg_color='w'):\n",
      "    \n",
      "    plt.setp(plt.getp(axes, 'xticklabels'), color=fg_color)\n",
      "    plt.setp(plt.getp(axes, 'xticklabels'), fontweight='bold')\n",
      "    plt.setp(plt.getp(axes, 'yticklabels'), color=fg_color)\n",
      "    plt.setp(plt.getp(axes, 'yticklabels'), fontweight='bold')\n",
      "    \n",
      "    #axes.plot(data_clean_sorted.index, )\n",
      "    axes.set_title(title, verticalalignment='bottom', \n",
      "                   horizontalalignment='center', fontsize=24, fontweight='bold',color=fg_color)\n",
      "    axes.set_ylabel('Duration (min:sec)', fontsize=18, fontweight='bold', color=fg_color)\n",
      "    axes.set_xlabel('Day', fontsize=18, fontweight='bold', color=fg_color)"
     ],
     "language": "python",
     "metadata": {},
     "outputs": [],
     "prompt_number": 19
    },
    {
     "cell_type": "heading",
     "level": 2,
     "metadata": {},
     "source": [
      "Define Chart-Creating Functions"
     ]
    },
    {
     "cell_type": "markdown",
     "metadata": {},
     "source": [
      "These are the functions that create the various charts I want to create. They pretty much vary in terms of which column of data is getting plotted, whether or not I plot the mean/bottom quartile/top quartile, and if I plot various annotations. They could probably all be optimized for fewer lines of code and more cleverness, but sometimes, this approach is enough. "
     ]
    },
    {
     "cell_type": "heading",
     "level": 3,
     "metadata": {},
     "source": [
      "Create a chart of commute duration, nothing else. "
     ]
    },
    {
     "cell_type": "code",
     "collapsed": false,
     "input": [
      "def plot_dur_seconds_no_labels(df):\n",
      "    fig = plt.figure()\n",
      "    axes = fig.add_subplot(1,1,1)\n",
      "\n",
      "    axes.scatter(df.index, df['dur_seconds'], s=100, c=orange, edgecolor=orange)\n",
      "    \n",
      "    axes.yaxis.set_major_formatter(ff(s2ms))\n",
      "    \n",
      "    axes.annotate('max', xy=(0, 9.5), xytext= (-5,9.5))\n",
      "    \n",
      "    # Print the number of data points. \n",
      "    axes.text(datetime(2014,3,25), ((18*60)+45), (\"n = \"+str(len(df))), ha=\"center\", va=\"center\", size=20,color=(0.8,0.8,0.8))\n",
      "    \n",
      "    return fig, axes"
     ],
     "language": "python",
     "metadata": {},
     "outputs": [],
     "prompt_number": 17
    },
    {
     "cell_type": "heading",
     "level": 3,
     "metadata": {},
     "source": [
      "Create a chart of commute duration, with mean and quartiles"
     ]
    },
    {
     "cell_type": "code",
     "collapsed": false,
     "input": [
      "def plot_dur_seconds_with_norms(df):\n",
      "\n",
      "    fig = plt.figure()\n",
      "    axes = fig.add_subplot(1,1,1)\n",
      "\n",
      "    axes.scatter(df.index, df['dur_seconds'], s=100, c=orange, edgecolor=orange)\n",
      "\n",
      "    axes.set_ylim(0, 3000) # lim for Average Speed plot\n",
      "    \n",
      "    axes.set_xlim(datetime(2013, 9, 28), datetime(2014,4,30))\n",
      "    \n",
      "    axes.yaxis.set_major_formatter(ff(s2ms))\n",
      "    \n",
      "    \n",
      "    stuff = df['dur_seconds'].describe()\n",
      "    axes.plot([datetime(2013,9,1), datetime(2014,5,30)], [stuff['mean'], stuff['mean']], color=blue, linestyle='-', linewidth=3)\n",
      "   \n",
      "    axes.axhspan(stuff['min'], stuff['25%'], facecolor='1', alpha=0.2)\n",
      "    axes.axhspan(stuff['75%'], stuff['max'], facecolor='1', alpha=0.2)\n",
      "    \n",
      "    axes.scatter(df.index, df['dur_seconds'], s=100, c=orange, edgecolor=orange)\n",
      "\n",
      "    \n",
      "    botq_label_y = stuff['min'] + ((stuff['25%'] - stuff['min'])/2)\n",
      "    axes.annotate('', xy=(datetime(2013,11,17),stuff['min']), xytext=(datetime(2013,11,17),stuff['25%']), \n",
      "                  arrowprops=dict(arrowstyle='<|-|>',edgecolor='w',facecolor=blue,mutation_scale=28,linewidth=2))\n",
      "    axes.annotate('Bottom Quartile', xy=(datetime(2013,11,19),stuff['min']), xytext=(datetime(2013,11,19),botq_label_y),color=(0.8,0.8,0.8))\n",
      "\n",
      "    axes.annotate('', xy=(datetime(2013,11,17),stuff['75%']), xytext=(datetime(2013,11,17),stuff['max']), \n",
      "                  arrowprops=dict(arrowstyle='<|-|>',facecolor=blue,edgecolor='w',mutation_scale=28,linewidth=2))\n",
      "    topq_label_y = stuff['75%'] + ((stuff['max'] - stuff['75%'])/2)\n",
      "    axes.annotate('Top Quartile', xy=(datetime(2013,11,19),stuff['min']), xytext=(datetime(2013,11,19),topq_label_y),color=(0.8,0.8,0.8))\n",
      "    \n",
      "    axes.annotate('Mean', xy=(datetime(2013,11,17),stuff['mean']), xytext=(datetime(2013,11,17),stuff['mean']+20),color=(0.8,0.8,0.8))\n",
      "    \n",
      "    \n",
      "    axes.text(datetime(2014,3,25), ((18*60)+45), (\"n = \"+str(len(df))), ha=\"center\", va=\"center\", size=20,color=(0.8,0.8,0.8))\n",
      "    \n",
      "    \n",
      "    return fig, axes\n"
     ],
     "language": "python",
     "metadata": {},
     "outputs": [],
     "prompt_number": 8
    },
    {
     "cell_type": "heading",
     "level": 3,
     "metadata": {},
     "source": [
      "Create a chart of commute duration, with experiment phases & annotations"
     ]
    },
    {
     "cell_type": "code",
     "collapsed": false,
     "input": [
      "def plot_dur_seconds_with_labels(df):\n",
      "\n",
      "    fig = plt.figure()\n",
      "    axes = fig.add_subplot(1,1,1)\n",
      "    axes.scatter(df.index, df['dur_seconds'], s=100, c=orange, edgecolor=orange)\n",
      "    \n",
      "    #axes.plot(data_clean_sorted.index, )\n",
      "    axes.set_title('Bike Commutes: Duration',verticalalignment='bottom', horizontalalignment='center', fontsize=20)\n",
      "    axes.set_ylabel('Duration (minutes:seconds)', fontsize=15)\n",
      "    axes.set_xlabel('Day', fontsize=15)\n",
      "    axes.set_ylim(0, 3000) # lim for Average Speed plot\n",
      "\n",
      "    #axes.set_xlim(datetime(2013, 10, 1), datetime(2014,4,30))\n",
      "    axes.set_xlim(datetime(2013, 9, 28), datetime(2014,4,30))\n",
      "    \n",
      "    axes.yaxis.set_major_formatter(ff(s2ms))\n",
      "    \n",
      "    do_describe = False\n",
      "    \n",
      "    if do_describe:\n",
      "        stuff = df['dur_seconds'].describe()\n",
      "        axes.plot([datetime(2013,9,1), datetime(2014,5,30)], [stuff['mean'], stuff['mean']], color=blue_alpha08, linestyle='-', linewidth=3)\n",
      " \n",
      "        axes.axhspan(stuff['min'], stuff['25%'], facecolor='0.6', alpha=0.2)\n",
      "        axes.axhspan(stuff['75%'], stuff['max'], facecolor='0.6', alpha=0.2)\n",
      "\n",
      "\n",
      "    do_labels = False\n",
      "    \n",
      "    for date, label in annotations:\n",
      "        if do_labels:\n",
      "            axes.annotate(label,\n",
      "                          xy= (date,9.5),\n",
      "                          xytext = (date, 2900),#df['dur_seconds'].asof(date)+300),\n",
      "                          arrowprops=dict(facecolor=blue,\n",
      "                                          arrowstyle='<|-|>'))\n",
      "        axes.axvline(date,color=blue,linewidth=3.5)\n",
      "    \n",
      "    axes.axvline(datetime(2013,12,1),color=green,linewidth=3)\n",
      "    \n",
      "    #axes.axvline(datetime(2013, 12,1))\n",
      "    axes.axvspan(datetime(2013,9,28), datetime(2013,12,1), facecolor='0.9', alpha=0.2)\n",
      "    axes.axvspan(datetime(2014,4,15), datetime(2014,4,30), facecolor='0.9', alpha=0.2)\n",
      "\n",
      "    axes.text(datetime(2014,3,25), ((18*60)+45), (\"n = \"+str(len(df))), ha=\"center\", va=\"center\", size=20,color=(0.8,0.8,0.8))\n",
      "    \n",
      "    \n",
      "    return fig, axes"
     ],
     "language": "python",
     "metadata": {},
     "outputs": [],
     "prompt_number": 9
    },
    {
     "cell_type": "heading",
     "level": 3,
     "metadata": {},
     "source": [
      "Create a chart of Dexter Hill Climb with Annotations"
     ]
    },
    {
     "cell_type": "code",
     "collapsed": false,
     "input": [
      "def plot_dexter_climb_with_labels(df):\n",
      "\n",
      "    fig = plt.figure()\n",
      "    axes = fig.add_subplot(1,1,1)\n",
      "    #ax2 = fig.add_subplot(1,2,2)\n",
      "\n",
      "    axes.scatter(df.index, df['dexter_climb_seconds'], s=100, c=orange, edgecolor=orange)\n",
      "\n",
      "    \n",
      "    axes.set_xlim(datetime(2013, 9, 28), datetime(2014,4,30))\n",
      "\n",
      "    #axes.plot(data_clean_sorted.index, )\n",
      "    axes.set_title('Dexter Hill: Duration',verticalalignment='bottom', horizontalalignment='center', fontsize=20)\n",
      "    axes.set_ylabel('Duration (minutes:seconds)', fontsize=15)\n",
      "    axes.set_xlabel('Day', fontsize=15)\n",
      "\n",
      "\n",
      "    for date, label in annotations:\n",
      "        axes.annotate(label,\n",
      "                      xy= (date,0),\n",
      "                      xytext = (date, df['dexter_climb_seconds'].asof(date)+20),\n",
      "                      arrowprops=dict(facecolor=blue, \n",
      "                                      #arrowstyle='-|>',#'fancy', \n",
      "                                      edgecolor=blue,\n",
      "                                      #horizontalalignment='right')) \n",
      "                                      #verticalalignment='bottom'))\n",
      "                                      ))\n",
      "        axes.axvline(date,color=blue,linewidth=3.5)\n",
      "    \n",
      "    axes.axvline(datetime(2013,12,1),color=green,linewidth=3)\n",
      "\n",
      "    # Shade \"out of experiment\" \n",
      "    axes.axvspan(datetime(2013,10,1), datetime(2013,12,1), facecolor='0.9', alpha=0.2)\n",
      "    axes.axvspan(datetime(2014,4,15), datetime(2014,4,30), facecolor='0.9', alpha=0.2)\n",
      "    \n",
      "    axes.yaxis.set_major_formatter(ff(s2ms))\n",
      "    \n",
      "    return fig, axes\n"
     ],
     "language": "python",
     "metadata": {},
     "outputs": [],
     "prompt_number": 10
    },
    {
     "cell_type": "heading",
     "level": 3,
     "metadata": {},
     "source": [
      "Create chart of Dexter Climb with something"
     ]
    },
    {
     "cell_type": "code",
     "collapsed": false,
     "input": [
      "def plot_dexter_climb_with_phases(df):\n",
      "\n",
      "    fig = plt.figure()\n",
      "    axes = fig.add_subplot(1,1,1)\n",
      "    \n",
      "    axes.axvspan(datetime(2013, 12,1), datetime(2014,1,11), facecolor=(0.8, 1, 0.8), alpha=0.4)\n",
      "    axes.axvspan(datetime(2014, 1,11), datetime(2014,2,28), facecolor=(1, 0.8, 0.8), alpha=0.4)\n",
      "    axes.axvspan(datetime(2014, 2,28), datetime(2014,4,5), facecolor=(0.8, 1, 0.8), alpha=0.4)\n",
      "\n",
      "    axes.scatter(df.index, df['dexter_climb_seconds'], s=100, c=orange, edgecolor=orange)\n",
      "\n",
      "    \n",
      "    axes.set_xlim(datetime(2013, 9, 28), datetime(2014,4,30))\n",
      "\n",
      "    #axes.plot(data_clean_sorted.index, )\n",
      "    axes.set_title('Dexter Hill: Duration',verticalalignment='bottom', horizontalalignment='center', fontsize=20)\n",
      "    axes.set_ylabel('Duration (minutes:seconds)', fontsize=15)\n",
      "    axes.set_xlabel('Day', fontsize=15)\n",
      "\n",
      "\n",
      "    for date, label in annotations:\n",
      "        axes.annotate(label,\n",
      "                      xy= (date,0),\n",
      "                      xytext = (date, df['dexter_climb_seconds'].asof(date)+20),\n",
      "                      arrowprops=dict(facecolor=blue, \n",
      "                                      #arrowstyle='-|>',#'fancy', \n",
      "                                      edgecolor=blue,\n",
      "                                      #horizontalalignment='right')) \n",
      "                                      #verticalalignment='bottom'))\n",
      "                                      ))\n",
      "        axes.axvline(date,color=blue, linewidth=3.5)\n",
      "    \n",
      "    axes.axvline(datetime(2013,12,1),color=green,linewidth=3)\n",
      "\n",
      "    # Shade \"out of experiment\" \n",
      "    axes.axvspan(datetime(2013,10,1), datetime(2013,12,1), facecolor='0.9', alpha=0.2)\n",
      "    axes.axvspan(datetime(2014,4,15), datetime(2014,4,30), facecolor='0.9', alpha=0.2)\n",
      "    \n",
      "    \n",
      "    axes.yaxis.set_major_formatter(ff(s2ms))\n",
      "    \n",
      "    return fig, axes"
     ],
     "language": "python",
     "metadata": {},
     "outputs": [],
     "prompt_number": 11
    },
    {
     "cell_type": "heading",
     "level": 3,
     "metadata": {},
     "source": [
      "Create chart of Dexter Climb with Trendlines"
     ]
    },
    {
     "cell_type": "code",
     "collapsed": false,
     "input": [
      "def plot_dexter_with_trendlines(df, trend_line_color='white'):\n",
      "\n",
      "    fig = plt.figure()\n",
      "    axes = fig.add_subplot(1,1,1)\n",
      "    \n",
      "    axes.axvspan(datetime(2013, 12,1), datetime(2014,1,11), facecolor=(0.8, 1, 0.8), alpha=0.4)\n",
      "    axes.axvspan(datetime(2014, 1,11), datetime(2014,3,1), facecolor=(1, 0.8, 0.8), alpha=0.4)\n",
      "    axes.axvspan(datetime(2014, 3,1), datetime(2014,4,1), facecolor=(0.8, 1, 0.8), alpha=0.4)\n",
      "    #axes.axvspan(datetime(2014, 3,21), datetime(2014,3,28), facecolor=(1, 0.8, 0.2), alpha=0.2)\n",
      "    #axes.axvspan(datetime(2014, 3,21), datetime(2014,3,28), facecolor=(1, 0.2, 0.2), alpha=0.2)\n",
      "    \n",
      "    breakpoint_dates = [datetime(2013, 10, 1), \n",
      "                        datetime(2013, 12, 1), \n",
      "                        datetime(2014, 1, 11), \n",
      "                        datetime(2014, 3, 1), \n",
      "                        datetime(2014, 4, 1)]\n",
      "    \n",
      "    #255, 129, 25\n",
      "    #ax2 = data_clean_sorted['Average Speed (mph)'].plot()\n",
      "    #axes.bar(data_clean_sorted.index, data_clean_sorted['Average Speed (mph)'], 0.5)\n",
      "    #axes.bar(df.index, df['dexter_climb_seconds'], 0.5, color=orange, edgecolor=orange)\n",
      "    axes.scatter(df.index, df['dexter_climb_seconds'], s=100, c=orange, edgecolor=orange)\n",
      "\n",
      "    \n",
      "    axes.set_xlim(datetime(2013, 9, 28), datetime(2014,4,30))\n",
      "\n",
      "    #axes.plot(data_clean_sorted.index, )\n",
      "    axes.set_title('Dexter Hill: Duration',verticalalignment='bottom', horizontalalignment='center', fontsize=20)\n",
      "    axes.set_ylabel('Duration (minutes:seconds)', fontsize=15)\n",
      "    axes.set_xlabel('Day', fontsize=15)\n",
      "\n",
      "    y1 = df['dexter_climb_seconds'].asof(datetime(2013,12,1))\n",
      "\n",
      "    for date, label in annotations:\n",
      "        axes.annotate(label,\n",
      "                      xy= (date,0),\n",
      "                      xytext = (date, df['dexter_climb_seconds'].asof(date)+20),\n",
      "                      arrowprops=dict(facecolor=blue, \n",
      "                                      #arrowstyle='-|>',#'fancy', \n",
      "                                      edgecolor=blue,\n",
      "                                      #horizontalalignment='right')) \n",
      "                                      #verticalalignment='bottom'))\n",
      "                                      ))\n",
      "        axes.axvline(date,color=blue, linewidth=3.5)\n",
      "    \n",
      "    axes.axvline(datetime(2013,12,1),color=green,linewidth=3)\n",
      "\n",
      "    # Shade \"out of experiment\" \n",
      "    axes.axvspan(datetime(2013,9,28), datetime(2013,12,1), facecolor='0.9', alpha=0.2)\n",
      "    axes.axvspan(datetime(2014,4,1), datetime(2014,4,30), facecolor='0.9', alpha=0.2)\n",
      "    \n",
      "    \n",
      "    axes.yaxis.set_major_formatter(ff(s2ms))\n",
      "    \n",
      "    # Trend lines\n",
      "    plot_trendlines = True\n",
      "    if (plot_trendlines):\n",
      "        which_bp = 0\n",
      "        while (which_bp < (len(breakpoint_dates)-1)):\n",
      "            df1 = df[breakpoint_dates[which_bp]:breakpoint_dates[which_bp+1]]    # stuff = test[np.isfinite(test['dexter_climb_seconds'])] \n",
      "            df1 = df1[np.isfinite(df1['dexter_climb_seconds'])]\n",
      "            slope, intercept = np.polyfit(df1['day_of_year'], df1['dexter_climb_seconds'], 1)\n",
      "\n",
      "            x1 = (breakpoint_dates[which_bp]-datetime(2013,1,1)).days\n",
      "            x2 = (breakpoint_dates[which_bp+1]-datetime(2013,1,1)).days\n",
      "            y1 = intercept + (slope*x1)\n",
      "            y2 = intercept + (slope*x2)\n",
      "\n",
      "            axes.plot([breakpoint_dates[which_bp],breakpoint_dates[which_bp+1]], [y1, y2], color=trend_line_color, linestyle='-',linewidth=3.5)\n",
      "            \n",
      "            mean =  df1['dexter_climb_seconds'].mean()\n",
      "            label = str(int(mean)/60) + ':' + str(int(mean)%60)\n",
      "            \n",
      "            axes.text(breakpoint_dates[which_bp], mean, label, color=trend_line_color,fontweight='bold')\n",
      "            \n",
      "            which_bp += 1\n",
      "    \n",
      "    return fig, axes"
     ],
     "language": "python",
     "metadata": {},
     "outputs": [],
     "prompt_number": 12
    },
    {
     "cell_type": "heading",
     "level": 2,
     "metadata": {},
     "source": [
      "The Meat. "
     ]
    },
    {
     "cell_type": "markdown",
     "metadata": {},
     "source": [
      "First things first, load the original RunKeeper data. "
     ]
    },
    {
     "cell_type": "code",
     "collapsed": false,
     "input": [
      "data = load_cycling_commute_runkeeper_csv()"
     ],
     "language": "python",
     "metadata": {},
     "outputs": [],
     "prompt_number": 13
    },
    {
     "cell_type": "markdown",
     "metadata": {},
     "source": [
      "I then trim the data to the dates I care about:"
     ]
    },
    {
     "cell_type": "code",
     "collapsed": false,
     "input": [
      " data = data['2013-10-01':'2014-04-30']"
     ],
     "language": "python",
     "metadata": {},
     "outputs": [],
     "prompt_number": 14
    },
    {
     "cell_type": "markdown",
     "metadata": {},
     "source": [
      "Now, I'll plot the first data: "
     ]
    },
    {
     "cell_type": "code",
     "collapsed": false,
     "input": [
      "fig1, axes1 = plot_dur_seconds_no_labels(data)\n",
      "format_axes(axes1, \"Bike Commutes, Duration\")\n",
      "plt.show()"
     ],
     "language": "python",
     "metadata": {},
     "outputs": [],
     "prompt_number": 20
    },
    {
     "cell_type": "markdown",
     "metadata": {},
     "source": [
      "Then, save it out to a file, with a black background. "
     ]
    },
    {
     "cell_type": "code",
     "collapsed": false,
     "input": [
      "fig1.savefig('fig1_23may14', dpi=150, facecolor='k', edgecolor='w',\n",
      "        orientation='landscape', papertype=None, format=None,\n",
      "        transparent=True, bbox_inches=None, pad_inches=0.1,\n",
      "        frameon=None)"
     ],
     "language": "python",
     "metadata": {},
     "outputs": [],
     "prompt_number": 22
    },
    {
     "cell_type": "markdown",
     "metadata": {},
     "source": [
      "And this is what we have: \n",
      "\n",
      "<img src=\"fig1_23may14.png\" width=500>\n",
      "\n",
      "Since it looks like there are outliers, we want to plot some norms. "
     ]
    },
    {
     "cell_type": "code",
     "collapsed": false,
     "input": [
      "fig2, axes2 = plot_dur_seconds_with_norms(data)\n",
      "format_axes(axes2, \"Bike Commutes, Duration\")\n",
      "plt.show()\n",
      "fig2.savefig('fig2_23may14', dpi=150, facecolor='k', edgecolor='w',\n",
      "        orientation='landscape', papertype=None, format=None,\n",
      "        transparent=True, bbox_inches=None, pad_inches=0.1,\n",
      "        frameon=None)"
     ],
     "language": "python",
     "metadata": {},
     "outputs": [],
     "prompt_number": 23
    },
    {
     "cell_type": "markdown",
     "metadata": {},
     "source": [
      "Which leaves us with this: \n",
      "\n",
      "<img src=\"fig2_23may14.png\" width=500>\n",
      "\n",
      "The grey bands are the top/bottom quartile of commute durations, so it's time to remove some outliers. "
     ]
    },
    {
     "cell_type": "code",
     "collapsed": false,
     "input": [
      "data_clean = data[(data['Distance (mi)'] > 6.5) & (data['Distance (mi)'] < 7.5)] "
     ],
     "language": "python",
     "metadata": {},
     "outputs": [],
     "prompt_number": 24
    },
    {
     "cell_type": "markdown",
     "metadata": {},
     "source": [
      "Now, plot it again to see if it looks better."
     ]
    },
    {
     "cell_type": "code",
     "collapsed": false,
     "input": [
      "fig3, axes3 = plot_dur_seconds_with_norms(data_clean)\n",
      "format_axes(axes3, \"Bike Commutes, Duration\")\n",
      "plt.show()\n",
      "fig3.savefig('fig3_23may14', dpi=150, facecolor='k', edgecolor='w',\n",
      "        orientation='landscape', papertype=None, format=None,\n",
      "        transparent=True, bbox_inches=None, pad_inches=0.1,\n",
      "        frameon=None)"
     ],
     "language": "python",
     "metadata": {},
     "outputs": [],
     "prompt_number": 26
    },
    {
     "cell_type": "markdown",
     "metadata": {},
     "source": [
      "<img src='fig3_23may14.png' width=500>\n",
      "\n",
      "So that looks a lot nicer. \n",
      "\n",
      "Next, we'll overlay the experiment timeline and date annotations. "
     ]
    },
    {
     "cell_type": "code",
     "collapsed": false,
     "input": [
      "fig4, axes4 = plot_dur_seconds_with_labels(data_clean)\n",
      "format_axes(axes4, \"Bike Commutes, Duration\")\n",
      "plt.show()\n",
      "fig4.savefig('fig4_23may14', dpi=150, facecolor='k', edgecolor='w',\n",
      "        orientation='landscape', papertype=None, format=None,\n",
      "        transparent=True, bbox_inches=None, pad_inches=0.1,\n",
      "        frameon=None)"
     ],
     "language": "python",
     "metadata": {},
     "outputs": [],
     "prompt_number": 27
    },
    {
     "cell_type": "markdown",
     "metadata": {},
     "source": [
      "And we get this:\n",
      "\n",
      "<img src='fig4_23may14.png' width=500>\n",
      "\n",
      "What we see here is that while the commute time is faster after each episode of \"high carbohydrate intake\", there still isn't a great distinction between commute durations during low-carb versus high-carb. In fact, we see this when we overlay the phases on the data. "
     ]
    },
    {
     "cell_type": "code",
     "collapsed": false,
     "input": [
      "fig4b, axes4b = plot_dur_seconds_with_labels(data_clean)\n",
      "format_axes(axes4b, \"Bike Commutes, Duration\", 'k')\n",
      "\n",
      "axes4b.axvspan(datetime(2013, 12,1), datetime(2014,1,11), facecolor=(0.8, 1, 0.8), alpha=0.4)\n",
      "axes4b.axvspan(datetime(2014, 1,11), datetime(2014,2,28), facecolor=(1, 0.8, 0.8), alpha=0.4)\n",
      "axes4b.axvspan(datetime(2014, 2,28), datetime(2014,4,5), facecolor=(0.8, 1, 0.8), alpha=0.4)\n",
      "plt.show()\n",
      "fig4b.savefig('fig4b_23may14', dpi=150, facecolor='w', edgecolor='w',\n",
      "        orientation='landscape', papertype=None, format=None,\n",
      "        transparent=True, bbox_inches=None, pad_inches=0.1,\n",
      "        frameon=None)"
     ],
     "language": "python",
     "metadata": {},
     "outputs": [],
     "prompt_number": 31
    },
    {
     "cell_type": "markdown",
     "metadata": {},
     "source": [
      "<img src=\"fig4b_23may14.png\" width=700>\n",
      "\n",
      "(The shading looks better with a white background.)\n",
      "\n",
      "Since commute times may be impacted by factors out of my control, I identified a stetch of the ride that was not downhill (it was all uphill, so required concious effort) with no red lights, stop signs, or construction. From this dataframe that had the dates of the commutes of interest, I selected the .gpx traces exported from RunKeeper, imported them into Strava, and then hand-crafted a spreadsheet with the Dexter Hill segment times. \n",
      "\n",
      "Now, I will import this data, and join it with the RunKeeper data.   "
     ]
    },
    {
     "cell_type": "code",
     "collapsed": false,
     "input": [
      "segment_data = load_cycling_segment_csv()\n",
      "full_data_with_segments = data_clean.join(segment_data, how='outer')"
     ],
     "language": "python",
     "metadata": {},
     "outputs": [],
     "prompt_number": 32
    },
    {
     "cell_type": "markdown",
     "metadata": {},
     "source": [
      "Now plot just the Dexter data: \n"
     ]
    },
    {
     "cell_type": "code",
     "collapsed": false,
     "input": [
      "fig5, axes5 = plot_dexter_climb_with_labels(full_data_with_segments)\n",
      "format_axes(axes5, \"Dexter Hill Segment, Duration\", 'k')\n",
      "plt.show()\n",
      "fig5.savefig('fig5_23may14', dpi=150, facecolor='w', edgecolor='w',\n",
      "        orientation='landscape', papertype=None, format=None,\n",
      "        transparent=True, bbox_inches=None, pad_inches=0.1,\n",
      "        frameon=None)"
     ],
     "language": "python",
     "metadata": {},
     "outputs": [],
     "prompt_number": 33
    },
    {
     "cell_type": "markdown",
     "metadata": {},
     "source": [
      "<img src=\"fig5_23may14.png\" width=700>\n",
      "\n",
      "Already it looks like we can distinguish something. \n",
      "\n",
      "Overlaying phases: "
     ]
    },
    {
     "cell_type": "code",
     "collapsed": false,
     "input": [
      "fig6, axes6 = plot_dexter_climb_with_phases(full_data_with_segments)\n",
      "format_axes(axes6, \"Dexter Hill Segment, Duration\", 'k')\n",
      "plt.show()\n",
      "fig6.savefig('fig6_23may14', dpi=150, facecolor='w', edgecolor='w',\n",
      "        orientation='landscape', papertype=None, format=None,\n",
      "        transparent=True, bbox_inches=None, pad_inches=0.1,\n",
      "        frameon=None)"
     ],
     "language": "python",
     "metadata": {},
     "outputs": [],
     "prompt_number": 35
    },
    {
     "cell_type": "markdown",
     "metadata": {},
     "source": [
      "<img src=\"fig6_23may14.png\" width=700>\n",
      "\n",
      "There's definitely something going on here. \n",
      "\n",
      "Plotting with trendlines (first, I have to calculate 'day_of_year' for easier computation): "
     ]
    },
    {
     "cell_type": "code",
     "collapsed": false,
     "input": [
      "full_data_with_segments['day_of_year'] = full_data_with_segments['some_time'].map(lambda x:(x-datetime(2013,1,1)).days)\n",
      "\n",
      "fig7, axes7 = plot_dexter_with_trendlines(full_data_with_segments, 'black')\n",
      "format_axes(axes7, \"Dexter Hill Segment, Duration\", 'k')\n",
      "plt.show()\n",
      "fig7.savefig('fig7_23may14', dpi=150, facecolor='w', edgecolor='w',\n",
      "        orientation='landscape', papertype=None, format=None,\n",
      "        transparent=True, bbox_inches=None, pad_inches=0.1,\n",
      "        frameon=None)"
     ],
     "language": "python",
     "metadata": {},
     "outputs": [],
     "prompt_number": 39
    },
    {
     "cell_type": "markdown",
     "metadata": {},
     "source": [
      "<img src=\"fig7_23may14.png\" width=700>\n",
      "\n",
      "There we go. Interesting trends. \n",
      "\n",
      "What I see from this data is that the first time I went through a carbohydrate restriction, my body never fully adapted to the low-carbohydrate state. Or, at least, it didn't performance-wise. When I started consuming more carbohydrates, I really did start riding faster, and presumably having more energy. \n",
      "\n",
      "But the second time I went into carbohydrate restriction, there was an initial decrease in performance, that I was able to adapt to fairly quickly. \n",
      "\n",
      "Perhaps at a future point in time, I'll add my weight graph onto this, to see if there was another benefit to going through the carbohydrate restriction. "
     ]
    },
    {
     "cell_type": "code",
     "collapsed": false,
     "input": [],
     "language": "python",
     "metadata": {},
     "outputs": []
    }
   ],
   "metadata": {}
  }
 ]
}